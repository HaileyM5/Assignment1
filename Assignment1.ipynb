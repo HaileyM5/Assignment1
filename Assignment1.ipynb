{
 "cells": [
  {
   "cell_type": "code",
   "execution_count": 1,
   "id": "9ce2a1ce",
   "metadata": {},
   "outputs": [
    {
     "name": "stdout",
     "output_type": "stream",
     "text": [
      "Hailey Mueller\n"
     ]
    }
   ],
   "source": [
    "print ('Hailey Mueller')"
   ]
  },
  {
   "cell_type": "markdown",
   "id": "409c88cb",
   "metadata": {},
   "source": [
    "# CS-150 - Version 1"
   ]
  },
  {
   "cell_type": "markdown",
   "id": "7ca9e5b7",
   "metadata": {},
   "source": [
    "## Getting Started"
   ]
  },
  {
   "cell_type": "markdown",
   "id": "eabd978c",
   "metadata": {},
   "source": [
    "> Good Morning"
   ]
  },
  {
   "cell_type": "markdown",
   "id": "548887bb",
   "metadata": {},
   "source": [
    "\n",
    "* Module 0 - Course Introduction\n",
    "* Module 1 - Variables and Simple Data Types\n",
    "* Module 2 - Introducing Lists, Tuples\n",
    "* Module 3 - if Statements\n",
    "* Module 4 - Dictionaries\n",
    "* Module 5 - While Loops\n",
    "* Module 6 - Functions\n",
    "* Module 7 - Classes\n",
    "* Module 8 - Numpy"
   ]
  },
  {
   "cell_type": "markdown",
   "id": "2928491a",
   "metadata": {},
   "source": [
    "\n",
    "1. Assignment 1\n",
    "2. Assignment 2\n",
    "3. Assignment 3\n",
    "4. Assignment 4\n",
    "5. Assignment 5\n",
    "6. Assignment 6\n",
    "7. Assignment 7"
   ]
  },
  {
   "cell_type": "markdown",
   "id": "836b2449",
   "metadata": {},
   "source": []
  },
  {
   "cell_type": "markdown",
   "id": "83bf5463",
   "metadata": {},
   "source": [
    "**These words are written in bold.**"
   ]
  },
  {
   "cell_type": "markdown",
   "id": "d6ce1f1e",
   "metadata": {},
   "source": [
    "*These words are written in italics*"
   ]
  },
  {
   "cell_type": "markdown",
   "id": "ef283378",
   "metadata": {},
   "source": []
  },
  {
   "cell_type": "markdown",
   "id": "8b580a6d",
   "metadata": {},
   "source": [
    "> This sentence is indented"
   ]
  },
  {
   "cell_type": "markdown",
   "id": "3fbb9bf7",
   "metadata": {},
   "source": [
    "`My Github` can be found at \n",
    "<a href=\"https://github.com/HaileyM5\">thislink</a>"
   ]
  },
  {
   "cell_type": "markdown",
   "id": "32b2359d",
   "metadata": {},
   "source": []
  },
  {
   "cell_type": "markdown",
   "id": "8c5d26d3",
   "metadata": {},
   "source": [
    "![Duck](https://media.istockphoto.com/id/464988959/photo/mallard-duck-on-white-background.jpg?s=612x612&w=0&k=20&c=S1jcDuyXuoCVUaTobTrZ5f6SlscukkyheqKDHAeflW8=)"
   ]
  }
 ],
 "metadata": {
  "kernelspec": {
   "display_name": "Python 3 (ipykernel)",
   "language": "python",
   "name": "python3"
  },
  "language_info": {
   "codemirror_mode": {
    "name": "ipython",
    "version": 3
   },
   "file_extension": ".py",
   "mimetype": "text/x-python",
   "name": "python",
   "nbconvert_exporter": "python",
   "pygments_lexer": "ipython3",
   "version": "3.9.13"
  }
 },
 "nbformat": 4,
 "nbformat_minor": 5
}
